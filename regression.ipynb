{
 "cells": [
  {
   "cell_type": "code",
   "execution_count": 1,
   "id": "d7336edf",
   "metadata": {},
   "outputs": [],
   "source": [
    "import matplotlib.pyplot as plt\n",
    "import numpy as np\n",
    "import pandas as pd \n",
    "from pandas.api.types import is_numeric_dtype"
   ]
  },
  {
   "cell_type": "code",
   "execution_count": null,
   "id": "6aacbe24",
   "metadata": {},
   "outputs": [],
   "source": [
    "x = [1,2,3,4,5,6]\n",
    "y = [6,9,12,15,18,21]\n",
    "\n",
    "class basic_linear_regression:\n",
    "    def __init__(self,x,y):\n",
    "        self.x = x\n",
    "        self.y = y\n",
    "        self.n = len(x)\n",
    "\n",
    "        self.sum_x = sum(x)\n",
    "        self.sum_y = sum(y)\n",
    "        self.sum_xy = sum(a * b for a, b in zip(x, y))\n",
    "        self.sum_x2 = sum(a ** 2 for a in x)\n",
    "\n",
    "    def slope(self):\n",
    "        self.m = (self.n * self.sum_xy - self.sum_x * self.sum_y) / (self.n * self.sum_x2 - self.sum_x ** 2)\n",
    "        return self.m \n",
    "\n",
    "    def yint(self):\n",
    "        int = (self.sum_y - self.m*self.sum_x) / self.n\n",
    "        return int "
   ]
  },
  {
   "cell_type": "code",
   "execution_count": null,
   "id": "09c0d212",
   "metadata": {},
   "outputs": [],
   "source": [
    "test = basic_linear_regression(x,y)\n",
    "m = test.slope()\n",
    "b = test.yint()\n",
    "\n",
    "y_pred = [m * xi + b for xi in x]\n",
    "\n",
    "plt.scatter(x, y, color='blue', label='Actual Data')\n",
    "\n",
    "plt.plot(x, y_pred, color='red', label='Predicted Line', linestyle='-')\n",
    "\n",
    "plt.xlabel('x')\n",
    "plt.ylabel('y')\n",
    "plt.title('Linear Regression Fit')\n",
    "plt.legend()\n",
    "plt.grid(True)\n",
    "plt.show()"
   ]
  },
  {
   "cell_type": "code",
   "execution_count": null,
   "id": "71021787",
   "metadata": {},
   "outputs": [],
   "source": [
    "data = pd.read_csv(\"student_scores.zip\")\n",

    "def standardization(df):\n",
    "    vals = pd.DataFrame()\n",
    "    for val in df.columns[:-1]:\n",
    "        μ = df[val].mean()\n",
    "        σ = df[val].std()\n",
    "        vals[val] = (df[val] - μ) / σ\n",
    "            \n",
    "    last_col = df.columns[-1]\n",
    "    vals[last_col] = df[last_col]\n",
    "    return vals\n",
    "\n",
    "plotting = data.drop('Extracurricular Activities', axis=1)"
   ]
  },
  {
   "cell_type": "code",
   "execution_count": null,
   "id": "1857501a",
   "metadata": {},
   "outputs": [],
   "source": [
    "def manual_one_hot_encode(data):\n",
    "    encoded = {}\n",
    "\n",
    "    for column in data.columns:\n",
    "        if is_numeric_dtype(data[column]):\n",
    "            encoded[column] = data[column]\n",
    "        else:\n",
    "            unique_vals = sorted(set(data[column]))\n",
    "            if len(unique_vals) == 2:\n",
    "                main_val = unique_vals[0]\n",
    "                encoded[column] = [1 if val == main_val else 0 for val in data[column]]\n",
    "            else:\n",
    "                for unique in unique_vals:\n",
    "                    encoded[f'{column}_{unique}'] = [1 if val == unique else 0 for val in data[column]]\n",
    "\n",
    "    df = pd.DataFrame(encoded)\n",
    "    return df"
   ]
  },
  {
   "cell_type": "code",
   "execution_count": 4,
   "id": "f9c3e6d7",
   "metadata": {},
   "outputs": [],
   "source": [
    "def inTOfloat(df):\n",
    "    return df.astype(float)"
   ]
  },
  {
   "cell_type": "code",
   "execution_count": null,
   "id": "9f05bd17",
   "metadata": {},
   "outputs": [],
   "source": [
    "for column in plotting.columns:\n",
    "    plt.boxplot(plotting[column])\n",
    "    plt.title(f'Plot of {column}')\n",
    "    plt.xlabel('Index')\n",
    "    plt.show()\n"
   ]
  },
  {
   "cell_type": "code",
   "execution_count": null,
   "id": "a7a5cbcb",
   "metadata": {},
   "outputs": [],
   "source": [
    "num_features = len(plotting.columns)\n",
    "fig, axes = plt.subplots(num_features, num_features, figsize=(10, 10))\n",
    "\n",
    "for i in range(num_features):\n",
    "    for j in range(num_features):\n",
    "        ax = axes[i, j]\n",
    "        x = plotting.iloc[:, j]\n",
    "        y = plotting.iloc[:, i]\n",
    "        ax.scatter(x, y, alpha=0.7, s=10, color=\"blue\")\n",
    "\n",
    "        if j == 0:\n",
    "            ax.set_ylabel(plotting.columns[i], fontsize=10)\n",
    "        if i == num_features - 1:\n",
    "            ax.set_xlabel(plotting.columns[j], fontsize=10)\n",
    "\n",
    "        # Hide ticks for cleaner look\n",
    "        ax.set_xticks([])\n",
    "        ax.set_yticks([])\n",
    "\n",
    "# Adjust layout\n",
    "plt.tight_layout()\n",
    "plt.show()"
   ]
  },
  {
   "cell_type": "code",
   "execution_count": 11,
   "id": "73f75d0d",
   "metadata": {},
   "outputs": [],
   "source": [
    "plotting = standardization(plotting)"
   ]
  },
  {
   "cell_type": "code",
   "execution_count": null,
   "id": "1297f0e9",
   "metadata": {},
   "outputs": [],
   "source": [
    "fig, ax = plt.subplots()\n",
    "\n",
    "corr = plotting.corr()\n",
    "im = ax.imshow(corr, cmap=\"magma\")\n",
    "\n",
    "labels = ['Hours Studied',\"Previous Scores\",\n",
    "          'Sleep Hours','sample Questions','Performance Index']\n",
    "\n",
    "ax.set_xticks(range(len(labels)))\n",
    "ax.set_xticklabels(labels, rotation=45, ha=\"right\", rotation_mode=\"anchor\")\n",
    "\n",
    "ax.set_yticks(range(len(labels)))\n",
    "ax.set_yticklabels(labels)\n",
    "\n",
    "ax.set_title(\"Scores Heatmap\")\n",
    "\n",
    "for i in range(len(labels)):\n",
    "    for j in range(len(labels)):\n",
    "        value = plotting.iloc[i, j]\n",
    "        text = ax.text(j, i, f\"{value:.2f}\",\n",
    "                       ha=\"center\", va=\"center\", color=\"w\")\n",
    "\n",
    "fig.tight_layout() \n",
    "plt.show()"
   ]
  },
  {
   "cell_type": "code",
   "execution_count": 5,
   "id": "a8e0677f",
   "metadata": {},
   "outputs": [
    {
     "data": {
      "text/html": [
       "<div>\n",
       "<style scoped>\n",
       "    .dataframe tbody tr th:only-of-type {\n",
       "        vertical-align: middle;\n",
       "    }\n",
       "\n",
       "    .dataframe tbody tr th {\n",
       "        vertical-align: top;\n",
       "    }\n",
       "\n",
       "    .dataframe thead th {\n",
       "        text-align: right;\n",
       "    }\n",
       "</style>\n",
       "<table border=\"1\" class=\"dataframe\">\n",
       "  <thead>\n",
       "    <tr style=\"text-align: right;\">\n",
       "      <th></th>\n",
       "      <th>Hours Studied</th>\n",
       "      <th>Previous Scores</th>\n",
       "      <th>Extracurricular Activities</th>\n",
       "      <th>Sleep Hours</th>\n",
       "      <th>Sample Question Papers Practiced</th>\n",
       "      <th>Performance Index</th>\n",
       "    </tr>\n",
       "  </thead>\n",
       "  <tbody>\n",
       "    <tr>\n",
       "      <th>0</th>\n",
       "      <td>0.775149</td>\n",
       "      <td>1.704090</td>\n",
       "      <td>-1.010404</td>\n",
       "      <td>1.456132</td>\n",
       "      <td>-1.249691</td>\n",
       "      <td>91.0</td>\n",
       "    </tr>\n",
       "    <tr>\n",
       "      <th>1</th>\n",
       "      <td>-0.383461</td>\n",
       "      <td>0.723876</td>\n",
       "      <td>0.989604</td>\n",
       "      <td>-1.492220</td>\n",
       "      <td>-0.900937</td>\n",
       "      <td>65.0</td>\n",
       "    </tr>\n",
       "    <tr>\n",
       "      <th>2</th>\n",
       "      <td>1.161352</td>\n",
       "      <td>-1.063573</td>\n",
       "      <td>-1.010404</td>\n",
       "      <td>0.276791</td>\n",
       "      <td>-0.900937</td>\n",
       "      <td>45.0</td>\n",
       "    </tr>\n",
       "    <tr>\n",
       "      <th>3</th>\n",
       "      <td>0.002742</td>\n",
       "      <td>-1.005913</td>\n",
       "      <td>-1.010404</td>\n",
       "      <td>-0.902549</td>\n",
       "      <td>-0.900937</td>\n",
       "      <td>36.0</td>\n",
       "    </tr>\n",
       "    <tr>\n",
       "      <th>4</th>\n",
       "      <td>0.775149</td>\n",
       "      <td>0.320259</td>\n",
       "      <td>0.989604</td>\n",
       "      <td>0.866462</td>\n",
       "      <td>0.145326</td>\n",
       "      <td>66.0</td>\n",
       "    </tr>\n",
       "  </tbody>\n",
       "</table>\n",
       "</div>"
      ],
      "text/plain": [
       "   Hours Studied  Previous Scores  Extracurricular Activities  Sleep Hours  \\\n",
       "0       0.775149         1.704090                   -1.010404     1.456132   \n",
       "1      -0.383461         0.723876                    0.989604    -1.492220   \n",
       "2       1.161352        -1.063573                   -1.010404     0.276791   \n",
       "3       0.002742        -1.005913                   -1.010404    -0.902549   \n",
       "4       0.775149         0.320259                    0.989604     0.866462   \n",
       "\n",
       "   Sample Question Papers Practiced  Performance Index  \n",
       "0                         -1.249691               91.0  \n",
       "1                         -0.900937               65.0  \n",
       "2                         -0.900937               45.0  \n",
       "3                         -0.900937               36.0  \n",
       "4                          0.145326               66.0  "
      ]
     },
     "execution_count": 5,
     "metadata": {},
     "output_type": "execute_result"
    }
   ],
   "source": [
    "df = standardization(inTOfloat(manual_one_hot_encode(data)))\n",
    "df.head()"
   ]
  },
  {
   "cell_type": "code",
   "execution_count": null,
   "id": "ce527389",
   "metadata": {},
   "outputs": [
    {
     "name": "stdout",
     "output_type": "stream",
     "text": [
      "Coefficients: [55.2407568   7.38596173 17.63778117 -0.3043071   0.8088274   0.55004746]\n",
      "[0.00040973 0.00040967 0.00040986 0.00040978 0.00040976]\n",
      "R² Score: 0.9890\n",
      "MSE: 4.0826\n"
     ]
    },
    {
     "data": {
      "text/plain": [
       "(0.9889832909573145, 4.0826283985218605)"
      ]
     },
     "execution_count": 13,
     "metadata": {},
     "output_type": "execute_result"
    }
   ],
   "source": [
    "from sklearn.model_selection import train_test_split\n",
    "from sklearn.metrics import r2_score, mean_squared_error\n",
    "\n",
    "class multi_linear_regression:\n",
    "    def __init__(self,df):\n",
    "        self.x = df.iloc[:, :-1]\n",
    "        self.y = df.iloc[:, -1]\n",
    "        self.X_train_df, self.X_test_df, self.y_train_df, self.y_test_df = train_test_split(self.x, self.y, test_size=0.2, random_state=42)\n",
    "\n",
    "        intercept = np.ones((self.X_train_df.shape[0],1))\n",
    "        self.X_train_df = np.hstack((intercept, self.X_train_df))\n",
    "\n",
    "        intercept = np.ones((self.X_test_df.shape[0],1))\n",
    "        self.X_test_df = np.hstack((intercept, self.X_test_df))\n",
    "\n",
    "    def data_used(self): \n",
    "        return self.X_train_df, self.X_test_df, self.y_train_df, self.y_test_df\n",
    "\n",
    "    def beta(self):   \n",
    "        self.coefficients  = np.matmul(\n",
    "            np.linalg.inv(np.matmul(self.X_train_df.T,self.X_train_df)),\n",
    "            np.matmul(self.X_train_df.T,self.y_train_df)\n",
    "            )\n",
    "        return self.coefficients \n",
    "         \n",
    "    def predict(self):\n",
    "        return np.matmul(self.X_test_df, self.coefficients)\n",
    "\n",
    "    def se_beta(self,prediction):\n",
    "        cdiag = np.diag(np.linalg.inv(np.matmul(self.x.T,self.x)))\n",
    "        residual = np.subtract(self.y_test_df, prediction)\n",
    "        resSum = np.sum(np.square(residual))\n",
    "        se = (resSum / (self.X_test_df.shape[0] - self.X_test_df.shape[1])) \n",
    "        return se * cdiag\n",
    "        \n",
    "    def evaluate(self, predictions):\n",
    "        r2 = r2_score(self.y_test_df, predictions)\n",
    "        mse = mean_squared_error(self.y_test_df, predictions)\n",
    "        print(f\"R² Score: {r2:.4f}\")\n",
    "        print(f\"MSE: {mse:.4f}\")\n",
    "        return r2, mse\n",
    "\n",
    "data = standardization(inTOfloat(manual_one_hot_encode(data)))\n",
    "\n",
    "test1 = multi_linear_regression(data)\n",
    "print(f\"Coefficients: {test1.beta()}\")\n",
    "print(test1.se_beta(test1.predict()))\n",
    "test1.evaluate(test1.predict())\n"
   ]
  },
  {
   "cell_type": "code",
   "execution_count": 18,
   "id": "66c926f8",
   "metadata": {},
   "outputs": [],
   "source": [
    "x_train_plot, x_test_plot, y_train_plot, y_test_plot = test1.data_used()"
   ]
  },
  {
   "cell_type": "code",
   "execution_count": 19,
   "id": "e22fcdbc",
   "metadata": {},
   "outputs": [
    {
     "data": {
      "text/plain": [
       "[<matplotlib.lines.Line2D at 0x1b69cbd50a0>]"
      ]
     },
     "execution_count": 19,
     "metadata": {},
     "output_type": "execute_result"
    },
    {
     "data": {
      "image/png": "[encoded data removed]",
      "text/plain": [
       "<Figure size 640x480 with 1 Axes>"
      ]
     },
     "metadata": {},
     "output_type": "display_data"
    }
   ],
   "source": [
    "plt.scatter(y_test_plot, test1.predict())\n",
    "plt.xlabel(\"Actual\")\n",
    "plt.ylabel(\"Predicted\")\n",
    "plt.title(\"Actual vs Predicted Values\")\n",
    "plt.plot([y_test_plot.min(), y_test_plot.max()], [y_test_plot.min(), y_test_plot.max()], color='red')"
   ]
  },
  {
   "cell_type": "code",
   "execution_count": 7,
   "id": "289af10c",
   "metadata": {},
   "outputs": [
    {
     "name": "stdout",
     "output_type": "stream",
     "text": [
      "Coefficients: [ 7.38596173 17.63778117 -0.3043071   0.8088274   0.55004746]\n",
      "Intercept: 55.240756800755946\n",
      "Standard Errors (Intercept, Coefficient): [0.04527997 0.0456453  0.04527306 0.04536806 0.04557824 0.04502154]\n",
      "R² Score: 0.9889832909573145\n",
      "MSE: 4.08262839852185\n"
     ]
    }
   ],
   "source": [
    "from sklearn.linear_model import LinearRegression\n",
    "\n",
    "x = df.iloc[:, :-1]\n",
    "y = df.iloc[:, -1].astype(int)\n",
    "\n",
    "X_train, X_test, y_train, y_test = train_test_split(\n",
    "    x, y, test_size=0.2, random_state=42)\n",
    "\n",
    "model = LinearRegression()\n",
    "model.fit(X_train, y_train)\n",
    "\n",
    "y_pred = model.predict(X_test)\n",
    "residuals = y_test - y_pred\n",
    "\n",
    "sigma_squared_hat = np.sum(residuals**2) / (len(X_test) - 2)\n",
    "X_design = np.hstack((np.ones((len(X_test), 1)), X_test))\n",
    "covariance_matrix = sigma_squared_hat * np.linalg.inv(X_design.T @ X_design)\n",
    "standard_errors = np.sqrt(np.diag(covariance_matrix))\n",
    "\n",
    "print(f\"Coefficients: {model.coef_}\")\n",
    "print(f\"Intercept: {model.intercept_}\")\n",
    "print(f\"Standard Errors (Intercept, Coefficient): {standard_errors}\")\n",
    "print(f\"R² Score: {r2_score(y_test, y_pred)}\")\n",
    "print(f\"MSE: {mean_squared_error(y_test, y_pred)}\")"
   ]
  }
 ],
 "metadata": {
  "kernelspec": {
   "display_name": "base",
   "language": "python",
   "name": "python3"
  },
  "language_info": {
   "codemirror_mode": {
    "name": "ipython",
    "version": 3
   },
   "file_extension": ".py",
   "mimetype": "text/x-python",
   "name": "python",
   "nbconvert_exporter": "python",
   "pygments_lexer": "ipython3",
   "version": "3.12.3"
  }
 },
 "nbformat": 4,
 "nbformat_minor": 5
}
